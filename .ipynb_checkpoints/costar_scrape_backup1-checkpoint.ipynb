{
 "cells": [
  {
   "cell_type": "code",
   "execution_count": 9,
   "metadata": {},
   "outputs": [],
   "source": [
    "import os\n",
    "import pandas as pd\n",
    "import csv\n",
    "from bs4 import BeautifulSoup as bs"
   ]
  },
  {
   "cell_type": "code",
   "execution_count": 10,
   "metadata": {},
   "outputs": [],
   "source": [
    "# Read HTML from file\n",
    "filepath = os.path.join('Resources', 'ResultsContactCpd.html')\n",
    "with open(filepath, encoding='utf-8') as file:\n",
    "    html = file.read()"
   ]
  },
  {
   "cell_type": "code",
   "execution_count": 11,
   "metadata": {},
   "outputs": [],
   "source": [
    "# Create BeautifulSoup object; parse with 'html.parser'\n",
    "soup = bs(html, 'html.parser')\n",
    "# print(soup.prettify(formatter=\"html\"))"
   ]
  },
  {
   "cell_type": "code",
   "execution_count": 12,
   "metadata": {},
   "outputs": [],
   "source": [
    "contact_section = soup.find('div', id='htmlFixedColumns')\n",
    "address_section = soup.find('table', id='tblMainGrid')"
   ]
  },
  {
   "cell_type": "code",
   "execution_count": 33,
   "metadata": {},
   "outputs": [],
   "source": [
    "contact_records = contact_section.find_all('tr', class_='GridCursorHand')"
   ]
  },
  {
   "cell_type": "code",
   "execution_count": 25,
   "metadata": {},
   "outputs": [
    {
     "name": "stdout",
     "output_type": "stream",
     "text": [
      "==========CONTACT==========\n",
      "bennvogelsang@gmail.com\n",
      "Benn Vogelsang\n",
      "South Coast Commercial, Inc.\n",
      "==========CONTACT==========\n",
      "tmoore1031@gmail.com\n",
      "Terry Moore\n",
      "ACI Apartments\n",
      "==========CONTACT==========\n",
      "crobinson@acrecommercial.com\n",
      "Christopher J. Robinson\n",
      "ACRE Investment Real Estate\n",
      "==========CONTACT==========\n",
      "Tom.Mccartin@marcusmillichap.com\n",
      "Thomas McCartin\n",
      "Marcus & Millichap\n",
      "==========CONTACT==========\n",
      "chris.zorbas@marcusmillichap.com\n",
      "Christopher J. Zorbas\n",
      "Marcus & Millichap\n",
      "==========CONTACT==========\n",
      "ecomer@kiddermathews.com\n",
      "Eric Comer\n",
      "Kidder Mathews\n",
      "==========CONTACT==========\n",
      "CZorbas@IPAusa.com\n",
      "Christopher J. Zorbas\n",
      "Institutional Property Advisors\n"
     ]
    }
   ],
   "source": [
    "for contact_row in contact_records:\n",
    "    print('==========CONTACT==========')\n",
    "    contact_fields = contact_row.find_all('td')\n",
    "    \n",
    "    # get email address\n",
    "    try:\n",
    "        email_addr = contact_fields[1].a['onclick']\n",
    "        email_addr = email_addr[4 : email_addr.find(\",\") - 1]\n",
    "        print(email_addr)\n",
    "    except:\n",
    "        print(chr(32))\n",
    "        \n",
    "    # get contact name\n",
    "    try:\n",
    "        contact_name = contact_fields[2].text\n",
    "        print(contact_name)\n",
    "    except:\n",
    "        print(chr(32))\n",
    "    \n",
    "    # get company name\n",
    "    try:\n",
    "        company_name = contact_fields[3]['title']\n",
    "        print(company_name)\n",
    "    except:\n",
    "        try:\n",
    "            company_name = contact_fields[3].text\n",
    "            print(company_name)\n",
    "        except:\n",
    "            print(chr(32))"
   ]
  },
  {
   "cell_type": "code",
   "execution_count": 35,
   "metadata": {},
   "outputs": [],
   "source": [
    "address_records = address_section.find_all('tr', class_='GridCursorHand')"
   ]
  },
  {
   "cell_type": "code",
   "execution_count": 29,
   "metadata": {},
   "outputs": [
    {
     "name": "stdout",
     "output_type": "stream",
     "text": [
      "==========CONTACT==========\n",
      "Vice President\n",
      "(619) 794-0381\n",
      "3405 Kenyon St\n",
      "San Diego\n",
      "CA\n",
      "==========CONTACT==========\n",
      "Principal\n",
      " \n",
      "2635 Camino del Rio S\n",
      "San Diego\n",
      "CA\n",
      "==========CONTACT==========\n",
      "Senior Vice President/P…\n",
      "(619) 255-3222\n",
      "2365 Northside Dr\n",
      "San Diego\n",
      "CA\n",
      "==========CONTACT==========\n",
      "First Vice President Inv…\n",
      " \n",
      "4660 La Jolla Village Dr\n",
      "San Diego\n",
      "CA\n",
      "==========CONTACT==========\n",
      "Senior Managing Direct…\n",
      "(858) 373-3166\n",
      "4660 La Jolla Village Dr\n",
      "San Diego\n",
      "CA\n",
      "==========CONTACT==========\n",
      "Executive Vice President\n",
      "(858) 369-3084\n",
      "12230 El Camino Real\n",
      "San Diego\n",
      "CA\n",
      "==========CONTACT==========\n",
      "Senior Managing Direct…\n",
      "(858) 373-3166\n",
      "4660 La Jolla Village Dr\n",
      "San Diego\n",
      "CA\n"
     ]
    }
   ],
   "source": [
    "for address_row in address_records:\n",
    "    print('==========CONTACT==========')\n",
    "    contact_fields = address_row.find_all('td')\n",
    "    \n",
    "    title = contact_fields[0].text\n",
    "    phone = contact_fields[1].text\n",
    "    address = contact_fields[2].text\n",
    "    city = contact_fields[3].text\n",
    "    state = contact_fields[4].text\n",
    "    \n",
    "    print(title+'\\n'+phone+'\\n'+address+'\\n'+city+'\\n'+state)"
   ]
  },
  {
   "cell_type": "code",
   "execution_count": null,
   "metadata": {},
   "outputs": [],
   "source": []
  },
  {
   "cell_type": "code",
   "execution_count": null,
   "metadata": {},
   "outputs": [],
   "source": []
  },
  {
   "cell_type": "code",
   "execution_count": null,
   "metadata": {},
   "outputs": [],
   "source": []
  }
 ],
 "metadata": {
  "kernelspec": {
   "display_name": "Python 3",
   "language": "python",
   "name": "python3"
  },
  "language_info": {
   "codemirror_mode": {
    "name": "ipython",
    "version": 3
   },
   "file_extension": ".py",
   "mimetype": "text/x-python",
   "name": "python",
   "nbconvert_exporter": "python",
   "pygments_lexer": "ipython3",
   "version": "3.7.3"
  }
 },
 "nbformat": 4,
 "nbformat_minor": 2
}
