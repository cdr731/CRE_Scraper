{
 "cells": [
  {
   "cell_type": "code",
   "execution_count": null,
   "metadata": {},
   "outputs": [],
   "source": [
    "import os\n",
    "import glob\n",
    "import pandas as pd\n",
    "import csv\n",
    "from bs4 import BeautifulSoup as bs"
   ]
  },
  {
   "cell_type": "code",
   "execution_count": null,
   "metadata": {},
   "outputs": [],
   "source": [
    "# input the email list that the contacts will be imported into\n",
    "email_list = input('Email list name: ')\n",
    "\n",
    "# create a dataframe for the contacts\n",
    "contact_df = pd.DataFrame(columns = ['Email List', 'Email Address', 'Name',\\\n",
    "                                     'Company', 'Job Title', 'Phone',\\\n",
    "                                     'Address', 'City', 'State'])\n",
    "                          \n",
    "# function for extracting text from <td>\n",
    "def get_text(data):\n",
    "    \"\"\"Extract the text from the <td>\"\"\"\n",
    "    try:\n",
    "        result = data.text\n",
    "        if result == '-':\n",
    "            return chr(32)\n",
    "        else:\n",
    "            return result\n",
    "    except:\n",
    "        return chr(32)\n",
    "    \n",
    "# function for extracting 'input' class in <td>\n",
    "# else pass to 'extract_text' function\n",
    "def get_input(data):\n",
    "    \"\"\"Extract the text from the 'input' class\"\"\"\n",
    "    try:\n",
    "        result = data['title']\n",
    "        if result == '-':\n",
    "            return chr(32)\n",
    "    except:\n",
    "        result = get_text(data)\n",
    "    return result"
   ]
  },
  {
   "cell_type": "code",
   "execution_count": null,
   "metadata": {},
   "outputs": [],
   "source": [
    "# a counter that will increment for each row\n",
    "row_ct = 0\n",
    "\n",
    "# Read HTML from file\n",
    "for file_name in glob.glob(os.path.join('html_files', '*.html')):\n",
    "    with open(file_name, encoding='utf-8') as file:\n",
    "        html = file.read()\n",
    "\n",
    "    # Create BeautifulSoup object; parse with 'html.parser'\n",
    "    soup = bs(html, 'html.parser')\n",
    "    \n",
    "    texts = soup.find_all(text=True)\n",
    "    for t in texts:\n",
    "        newtext = t.replace(u'\\xa0', '-')\n",
    "        t.replace_with(newtext)\n",
    "\n",
    "    # parse out two main sections\n",
    "    contact_records = soup.find('div', id='htmlFixedColumns').\\\n",
    "        find_all('tr', class_='GridCursorHand')\n",
    "    address_records = soup.find('table', id='tblMainGrid').\\\n",
    "        find_all('tr', class_='GridCursorHand')\n",
    "\n",
    "    for i in range(len(contact_records)):\n",
    "        \n",
    "        contact_fields = contact_records[i].find_all('td')\n",
    "        address_fields = address_records[i].find_all('td')\n",
    "        recd = contact_fields + address_fields\n",
    "        \n",
    "        \n",
    "        # get email address\n",
    "        try:\n",
    "            email = recd[1].a['onclick']\n",
    "            email = email[4 : email.find(\",\") - 1]\n",
    "        except:\n",
    "            email = chr(32)\n",
    "        \n",
    "        # get other contact fields\n",
    "        name = get_text(recd[2])\n",
    "        company = get_input(recd[3])\n",
    "        job_title = get_input(recd[4])\n",
    "        phone = get_text(recd[5])\n",
    "        address = get_text(recd[6])\n",
    "        city = get_input(recd[7])\n",
    "        state = get_text(recd[8])\n",
    "        row_ct = row_ct + 1\n",
    "        contact_df.loc[row_ct] = [email_list, email, name, company,\\\n",
    "                                   job_title, phone, address, city, state]   "
   ]
  },
  {
   "cell_type": "code",
   "execution_count": null,
   "metadata": {},
   "outputs": [],
   "source": [
    "contact_df.to_csv('export.csv', encoding='utf-8', index=False)"
   ]
  },
  {
   "cell_type": "code",
   "execution_count": null,
   "metadata": {},
   "outputs": [],
   "source": []
  }
 ],
 "metadata": {
  "kernelspec": {
   "display_name": "Python 3",
   "language": "python",
   "name": "python3"
  },
  "language_info": {
   "codemirror_mode": {
    "name": "ipython",
    "version": 3
   },
   "file_extension": ".py",
   "mimetype": "text/x-python",
   "name": "python",
   "nbconvert_exporter": "python",
   "pygments_lexer": "ipython3",
   "version": "3.7.3"
  }
 },
 "nbformat": 4,
 "nbformat_minor": 2
}
